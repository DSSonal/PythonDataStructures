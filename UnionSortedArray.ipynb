{
 "cells": [
  {
   "cell_type": "code",
   "execution_count": 3,
   "source": [
    "class Solution:    \n",
    "    #Function to return the count of number of elements in union of two arrays.\n",
    "    def doUnion(self,a,n,b,m):\n",
    "        \"\"\"\n",
    "        Solution for https://practice.geeksforgeeks.org/problems/union-of-two-arrays3538/1\n",
    "        \"\"\"\n",
    "        x=set()\n",
    "        for i in range(0,n):\n",
    "            x.add(a[i])\n",
    "        for j in range(0, m):\n",
    "            x.add(b[j])\n",
    "        return len(x)\n",
    "    \n",
    "s1=Solution()\n",
    "a=[1,2,3,4,5]\n",
    "b=[3,5]\n",
    "n=5\n",
    "m=2\n",
    "s1.doUnion(a,n,b,m)"
   ],
   "outputs": [
    {
     "output_type": "execute_result",
     "data": {
      "text/plain": [
       "5"
      ]
     },
     "metadata": {},
     "execution_count": 3
    }
   ],
   "metadata": {}
  }
 ],
 "metadata": {
  "orig_nbformat": 4,
  "language_info": {
   "name": "python"
  }
 },
 "nbformat": 4,
 "nbformat_minor": 2
}