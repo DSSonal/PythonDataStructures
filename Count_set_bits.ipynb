{
 "metadata": {
  "language_info": {
   "codemirror_mode": {
    "name": "ipython",
    "version": 3
   },
   "file_extension": ".py",
   "mimetype": "text/x-python",
   "name": "python",
   "nbconvert_exporter": "python",
   "pygments_lexer": "ipython3",
   "version": "3.8.5"
  },
  "orig_nbformat": 2,
  "kernelspec": {
   "name": "python385jvsc74a57bd03da84ba005fb29740e5ed11ca0976eebf212de3bb6e2a95561a7043d3994a83c",
   "display_name": "Python 3.8.5 64-bit ('base': conda)"
  }
 },
 "nbformat": 4,
 "nbformat_minor": 2,
 "cells": [
  {
   "source": [
    "# Count number of set bits in an integer : Bit Manipulation/Bit masking"
   ],
   "cell_type": "markdown",
   "metadata": {}
  },
  {
   "cell_type": "code",
   "execution_count": 29,
   "metadata": {},
   "outputs": [
    {
     "output_type": "execute_result",
     "data": {
      "text/plain": [
       "2"
      ]
     },
     "metadata": {},
     "execution_count": 29
    }
   ],
   "source": [
    "\n",
    "class Solution:\n",
    "    def setBits(self, N):\n",
    "        count=0\n",
    "        if N==0:\n",
    "            return 0\n",
    "        else:\n",
    "            while(N!=0):\n",
    "                N=N & (N-1)\n",
    "                count+=1\n",
    "            return count\n",
    "\n",
    "s1=Solution()\n",
    "x=5\n",
    "s1.setBits(x)"
   ]
  }
 ]
}