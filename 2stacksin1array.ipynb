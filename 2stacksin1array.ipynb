{
 "metadata": {
  "language_info": {
   "codemirror_mode": {
    "name": "ipython",
    "version": 3
   },
   "file_extension": ".py",
   "mimetype": "text/x-python",
   "name": "python",
   "nbconvert_exporter": "python",
   "pygments_lexer": "ipython3",
   "version": "3.8.5"
  },
  "orig_nbformat": 2,
  "kernelspec": {
   "name": "python385jvsc74a57bd03da84ba005fb29740e5ed11ca0976eebf212de3bb6e2a95561a7043d3994a83c",
   "display_name": "Python 3.8.5 64-bit ('base': conda)"
  }
 },
 "nbformat": 4,
 "nbformat_minor": 2,
 "cells": [
  {
   "cell_type": "code",
   "execution_count": 13,
   "metadata": {},
   "outputs": [
    {
     "output_type": "stream",
     "name": "stdout",
     "text": [
      "[0, 1, 2, None, None, None, None, None, None, None, None, None, None, None, None, None, None, None, None, None, None, None, None, None, None, None, None, None, None, None, None, None, None, None, None, None, None, None, None, None, None, None, None, None, None, None, None, None, None, None, None, None, None, None, None, None, None, None, None, None, None, None, None, None, None, None, None, None, None, None, None, None, None, None, None, None, None, None, None, None, None, None, None, None, None, None, None, None, None, None, None, None, None, None, None, None, None, 98, 99, 100]\n2\n98\n1\n99\n"
     ]
    }
   ],
   "source": [
    "class Stack():\n",
    "    \"\"\"Creating push function to create a stack.\n",
    "    Creating pop function for implementing gstack.\"\"\"\n",
    "\n",
    "    def __init__(self):\n",
    "        global arr\n",
    "        arr=[None]*100     # forcefully creating an array of fixxed length 100\n",
    "        self.top1=-1\n",
    "        self.top2=100    #assuming that array is of size 100 with no fixed places for each stack. one starts from the begining while the other starts from the end.\n",
    "\n",
    "    def push1(self, a):\n",
    "        self.top1+=1\n",
    "        # arr.insert(self.top1,a)       #Cannot use insert as it adds that element and pushes the rest on the right. This mixes up our thought of the indices\n",
    "        arr[self.top1]=a  \n",
    "        \n",
    "\n",
    "    def push2(self, a):\n",
    "        self.top2-=1                    #as both the stacks are running in opposite directions\n",
    "        # arr.insert(self.top2,a)\n",
    "        arr[self.top2]=a\n",
    "\n",
    "    def pop1(self):\n",
    "        top11=self.top1\n",
    "        self.top1-=1\n",
    "        return arr[top11]  \n",
    "\n",
    "    def pop2(self):\n",
    "        top22=self.top2\n",
    "        self.top2+=1                #as both the stacks are running in opposite directions\n",
    "        return arr[top22]\n",
    "\n",
    "\n",
    "\n",
    "\n",
    "s=Stack()\n",
    "s.push1(0)\n",
    "s.push2(100)\n",
    "s.push1(1)\n",
    "s.push2(99)\n",
    "s.push2(98)\n",
    "s.push1(2)\n",
    "print(arr)\n",
    "print(s.pop1())\n",
    "print(s.pop2())\n",
    "print(s.pop1())\n",
    "print(s.pop2())"
   ]
  },
  {
   "cell_type": "code",
   "execution_count": null,
   "metadata": {},
   "outputs": [],
   "source": []
  }
 ]
}