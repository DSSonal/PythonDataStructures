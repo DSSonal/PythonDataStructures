{
 "cells": [
  {
   "cell_type": "code",
   "execution_count": 8,
   "id": "3793375c-614a-4d08-8129-0e1b431ec877",
   "metadata": {},
   "outputs": [
    {
     "name": "stdout",
     "output_type": "stream",
     "text": [
      "1 --> 2 --> 3 --> 4 --> 5 --> 6 --> 7 --> 8 --> 9\n",
      "3 --> 2 --> 1 --> 6 --> 5 --> 4 --> 9 --> 8 --> 7\n"
     ]
    }
   ],
   "source": [
    "class LinkedListNode:\n",
    "    def __init__(self,data,nextnode=None):\n",
    "        self.data=data\n",
    "        self.nextnode=nextnode\n",
    "        \n",
    "#Creating nodes that just have data but aren't linked to each other as by default nextnode=None \n",
    "n1=LinkedListNode(\"1\")  #basically creating class objects by passing the parameters\n",
    "n2=LinkedListNode(\"2\")\n",
    "n3=LinkedListNode(\"3\")\n",
    "n4=LinkedListNode(\"4\")\n",
    "n5=LinkedListNode(\"5\")\n",
    "n6=LinkedListNode(\"6\")\n",
    "n7=LinkedListNode(\"7\")\n",
    "n8=LinkedListNode(\"8\")\n",
    "n9=LinkedListNode(\"9\")\n",
    "\n",
    "#Linking the data nodes by defining the nextnode\n",
    "head=n1 #initiating\n",
    "n1.nextnode=n2  #linking data node n1 to n2\n",
    "n2.nextnode=n3  #linking data node n2 to n3\n",
    "n3.nextnode=n4  #linking data node n3 to n4\n",
    "n4.nextnode=n5  #linking data node n4 to n5\n",
    "n5.nextnode=n6\n",
    "n6.nextnode=n7\n",
    "n7.nextnode=n8\n",
    "n8.nextnode=n9\n",
    "\n",
    "\n",
    "#Virtual representation for a better visualisation\n",
    "current=head  #initialising\n",
    "while True:\n",
    "    if current.nextnode != None:\n",
    "        print(current.data,\"-->\", end=\" \")\n",
    "    else:\n",
    "        print(current.data)\n",
    "        break                       #break out of while loop when u reach the last node\n",
    "    current=current.nextnode\n",
    "    \n",
    "\n",
    "def reverse(head, k):\n",
    "    if head==None:\n",
    "        return None\n",
    "    current=head           #taken from above cell as it is\n",
    "    nextnode=None          #initialising new variables\n",
    "    prevnode=None\n",
    "    count=0\n",
    "    while(current!=None and count<k):                     \n",
    "        nextnode=current.nextnode    #creating 3 pointers similar to creating temporary variables to just reverse the direction of linkages\n",
    "        current.nextnode=prevnode\n",
    "        prevnode=current\n",
    "        current=nextnode\n",
    "        count+=1\n",
    "    \n",
    "    if (nextnode!=None):\n",
    "        head.nextnode=reverse(current,k)\n",
    "        \n",
    "    return prevnode\n",
    "\n",
    "# print (head.data)\n",
    "k=3 #value of k is taken to be 3\n",
    "head=reverse(head, k) \n",
    "\n",
    "#Virtual representation for a better visualisation\n",
    "current=head  #initialising\n",
    "while True:\n",
    "    if current.nextnode != None:\n",
    "        print(current.data,\"-->\", end=\" \")\n",
    "    else:\n",
    "        print(current.data)\n",
    "        break                       #break out of while loop when u reach the last node\n",
    "    current=current.nextnode\n",
    "\n",
    "    \n",
    "    "
   ]
  }
 ],
 "metadata": {
  "kernelspec": {
   "display_name": "Python 3",
   "language": "python",
   "name": "python3"
  },
  "language_info": {
   "codemirror_mode": {
    "name": "ipython",
    "version": 3
   },
   "file_extension": ".py",
   "mimetype": "text/x-python",
   "name": "python",
   "nbconvert_exporter": "python",
   "pygments_lexer": "ipython3",
   "version": "3.8.5"
  }
 },
 "nbformat": 4,
 "nbformat_minor": 5
}
