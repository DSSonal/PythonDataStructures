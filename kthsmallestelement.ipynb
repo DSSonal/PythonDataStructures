{
 "cells": [
  {
   "cell_type": "code",
   "execution_count": 3,
   "source": [
    "class Solution:\n",
    "    def kthSmallest(self,arr, l, r, k):\n",
    "        '''\n",
    "        arr : given array\n",
    "        l : starting index of the array i.e 0\n",
    "        r : ending index of the array i.e size-1\n",
    "        k : find kth smallest element and return using this function\n",
    "        Solution for https://practice.geeksforgeeks.org/problems/kth-smallest-element5635/\n",
    "        '''\n",
    "\n",
    "        \n",
    "        def partition(arr,l,r):\n",
    "            pivot=arr[l]\n",
    "            i=l     #storing it in other variables so as to not let the changes affect it\n",
    "            j=r\n",
    "            while(i<j):\n",
    "                while(arr[i]<=pivot and i<r):\n",
    "                    i+=1\n",
    "                while(arr[j]>pivot):\n",
    "                    j-=1\n",
    "                if(i<j):\n",
    "                    arr[i],arr[j]=arr[j],arr[i]\n",
    "            arr[l],arr[j]=arr[j],pivot\n",
    "            return j\n",
    "        def QuickSort(arr,l,r, k):\n",
    "            if (l<r):\n",
    "                j=partition(arr,l,r)\n",
    "                if (j==(k-1)):              \n",
    "                    return arr[j]   \n",
    "                elif j>(k-1):                       # The steps below this are used to save time and stop the processing as soon as kth element is found\n",
    "                    return QuickSort(arr,l,j,k)\n",
    "                elif j<(k-1):\n",
    "                    return QuickSort(arr,j+1,r,k)\n",
    "        return QuickSort(arr,l,r,k)\n",
    "                \n",
    "arr=[7,10,4,3,20,15]\n",
    "l=0\n",
    "r=5\n",
    "k=3\n",
    "s1=Solution()\n",
    "print(s1.kthSmallest(arr,l,r,k))"
   ],
   "outputs": [
    {
     "output_type": "stream",
     "name": "stdout",
     "text": [
      "7\n"
     ]
    }
   ],
   "metadata": {}
  }
 ],
 "metadata": {
  "orig_nbformat": 4,
  "language_info": {
   "name": "python"
  }
 },
 "nbformat": 4,
 "nbformat_minor": 2
}