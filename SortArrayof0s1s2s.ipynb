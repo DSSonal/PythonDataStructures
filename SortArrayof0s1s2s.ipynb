{
 "cells": [
  {
   "cell_type": "code",
   "execution_count": 35,
   "source": [
    "class Solution:\n",
    "    def sort012(self,arr,n):\n",
    "        \"\"\" \n",
    "        This is a solution for https://practice.geeksforgeeks.org/problems/sort-an-array-of-0s-1s-and-2s4231/1\n",
    "        \"\"\"\n",
    "        # x=n\n",
    "        # i=0           \n",
    "        # while (i<n):  #This takes more than O(n) time complexity but is unique to understand. It picks up all zeros and removes it from there and adds it in the beginning and removes 2 from there and adds at the end.\n",
    " \n",
    "        #     if arr[i]==0:\n",
    "        #         arr.insert(0, arr.pop(i))\n",
    "                \n",
    "\n",
    "        #     elif arr[i]==2:\n",
    "        #         arr.insert(x-1,arr.pop(i))\n",
    "        #         i-=1\n",
    "        #         n-=1\n",
    "        #     i+=1\n",
    "        x0=0\n",
    "        x1=0\n",
    "        x2=0          \n",
    "        for i in range(0,n):    #This is a very basic approach which can only be used when we do not require stable sort and is somewhat hardcoded\n",
    "            if arr[i]==0:\n",
    "                x0+=1\n",
    "            elif arr[i]==1:\n",
    "                x1+=1\n",
    "            else:\n",
    "                x2+=1\n",
    "        for i in range(0,x0):\n",
    "            arr[i]=0\n",
    "        for j in range(x0,x0+x1):\n",
    "            arr[j]=1\n",
    "        for k in range(x0+x1,n):\n",
    "            arr[k]=2\n",
    "            \n",
    "        \n",
    "\n",
    "        return arr\n",
    "        \n",
    "arr=[0,2,1,2,0]   \n",
    "n=5\n",
    "s1=Solution()\n",
    "s1.sort012(arr,n)\n",
    "        "
   ],
   "outputs": [
    {
     "output_type": "execute_result",
     "data": {
      "text/plain": [
       "[0, 0, 1, 2, 2]"
      ]
     },
     "metadata": {},
     "execution_count": 35
    }
   ],
   "metadata": {}
  }
 ],
 "metadata": {
  "orig_nbformat": 4,
  "language_info": {
   "name": "python"
  }
 },
 "nbformat": 4,
 "nbformat_minor": 2
}