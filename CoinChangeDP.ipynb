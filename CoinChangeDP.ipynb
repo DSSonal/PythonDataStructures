{
 "metadata": {
  "language_info": {
   "codemirror_mode": {
    "name": "ipython",
    "version": 3
   },
   "file_extension": ".py",
   "mimetype": "text/x-python",
   "name": "python",
   "nbconvert_exporter": "python",
   "pygments_lexer": "ipython3",
   "version": "3.8.5"
  },
  "orig_nbformat": 2,
  "kernelspec": {
   "name": "python385jvsc74a57bd03da84ba005fb29740e5ed11ca0976eebf212de3bb6e2a95561a7043d3994a83c",
   "display_name": "Python 3.8.5 64-bit ('base': conda)"
  }
 },
 "nbformat": 4,
 "nbformat_minor": 2,
 "cells": [
  {
   "cell_type": "code",
   "execution_count": 42,
   "metadata": {},
   "outputs": [
    {
     "output_type": "stream",
     "name": "stdout",
     "text": [
      "5\n[1, 0, 1, 1, 1, 2, 3, 2, 4, 4, 5]\n"
     ]
    }
   ],
   "source": [
    "\n",
    "class Coin_Change:\n",
    "    def count(self,S,n,m):\n",
    "        dp[0]=1  #the way to get 0 remains constant i.e.1 (do not pick any coin)\n",
    "        for j in S:\n",
    "            for i in range(j,m+1):              #the loops can be reversed to get all permutations as well\n",
    "                x=i-j                           #taking the difference to check if i amount can be paid using jth coin\n",
    "                if x>=0:                        #if the difference is negative we cannot sum to that amount\n",
    "                    dp[i]+=dp[x]                #it recursively calls and adds the number of ways in which the differenced amount can be summed up\n",
    "        return dp[m]                            \n",
    "\n",
    "m=10 #amount that u want to sum\n",
    "S=[2,5,3,6] #available coin denominations\n",
    "n=4 #number of coin dennominations\n",
    "dp=[0]*(m+1)  #creates a storage that is the heart of Dynamic Programming so as to save things that are once calculated and stored for future reference\n",
    "cc=Coin_Change()\n",
    "print(cc.count(S,n,m))\n",
    "print(dp)  #just to know all possible ways to sum 0 to m amount. The index of the list is the amount and value at that index is the number of ways to sum that amount using given denominations of coins.\n"
   ]
  },
  {
   "cell_type": "code",
   "execution_count": null,
   "metadata": {},
   "outputs": [],
   "source": []
  }
 ]
}