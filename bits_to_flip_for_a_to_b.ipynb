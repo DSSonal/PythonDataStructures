{
 "metadata": {
  "language_info": {
   "codemirror_mode": {
    "name": "ipython",
    "version": 3
   },
   "file_extension": ".py",
   "mimetype": "text/x-python",
   "name": "python",
   "nbconvert_exporter": "python",
   "pygments_lexer": "ipython3",
   "version": "3.8.5"
  },
  "orig_nbformat": 2,
  "kernelspec": {
   "name": "python385jvsc74a57bd03da84ba005fb29740e5ed11ca0976eebf212de3bb6e2a95561a7043d3994a83c",
   "display_name": "Python 3.8.5 64-bit ('base': conda)"
  }
 },
 "nbformat": 4,
 "nbformat_minor": 2,
 "cells": [
  {
   "source": [
    "# Count number of bits to be flipped to convert A to B: Bit Manipulation"
   ],
   "cell_type": "markdown",
   "metadata": {}
  },
  {
   "cell_type": "code",
   "execution_count": 1,
   "metadata": {},
   "outputs": [
    {
     "output_type": "stream",
     "name": "stdout",
     "text": [
      "2\n"
     ]
    }
   ],
   "source": [
    "class Solution:\n",
    "    ##Complete this function\n",
    "    # # Function to find number of bits needed to be flipped to convert A to B\n",
    "    def countBitsFlip(self,a,b):\n",
    "        res=a ^ b\n",
    "        if res==0:\n",
    "            return 0\n",
    "        else:\n",
    "            count=0\n",
    "            while(res!=0):\n",
    "                res=res&(res-1)\n",
    "                count+=1\n",
    "\n",
    "        return count\n",
    "\n",
    "s1=Solution()\n",
    "a=5\n",
    "b=6\n",
    "print(s1.countBitsFlip(a,b))"
   ]
  },
  {
   "cell_type": "code",
   "execution_count": null,
   "metadata": {},
   "outputs": [],
   "source": []
  }
 ]
}