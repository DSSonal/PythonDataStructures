{
 "metadata": {
  "language_info": {
   "codemirror_mode": {
    "name": "ipython",
    "version": 3
   },
   "file_extension": ".py",
   "mimetype": "text/x-python",
   "name": "python",
   "nbconvert_exporter": "python",
   "pygments_lexer": "ipython3",
   "version": "3.8.5"
  },
  "orig_nbformat": 2,
  "kernelspec": {
   "name": "python385jvsc74a57bd03da84ba005fb29740e5ed11ca0976eebf212de3bb6e2a95561a7043d3994a83c",
   "display_name": "Python 3.8.5 64-bit ('base': conda)"
  }
 },
 "nbformat": 4,
 "nbformat_minor": 2,
 "cells": [
  {
   "cell_type": "code",
   "execution_count": 1,
   "metadata": {},
   "outputs": [
    {
     "output_type": "stream",
     "name": "stdout",
     "text": [
      "8\n"
     ]
    }
   ],
   "source": [
    "from collections import defaultdict\n",
    "\n",
    "class Solution:\n",
    "    def getPairsCount(self, arr, n, k):\n",
    "        # code here\n",
    "        count=0\n",
    "        new_dict = defaultdict(lambda: 0)\n",
    "        for i in range(0,n):\n",
    "            x=k-arr[i]\n",
    "            new_dict[x]=(new_dict[x]+1)\n",
    "        for i in range(0,n):\n",
    "            if arr[i]==k/2:\n",
    "                count+=(new_dict[arr[i]]-1)\n",
    "            else:\n",
    "                count+=new_dict[arr[i]]\n",
    "            \n",
    "        return int(count/2) \n",
    "\n",
    "n=7\n",
    "k=2\n",
    "arr=[1,1,1,1,0,0,2]\n",
    "pc=Solution()\n",
    "print(pc.getPairsCount(arr,n,k))"
   ]
  },
  {
   "cell_type": "code",
   "execution_count": null,
   "metadata": {},
   "outputs": [],
   "source": []
  }
 ]
}