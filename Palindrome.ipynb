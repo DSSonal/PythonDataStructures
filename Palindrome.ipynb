{
 "cells": [
  {
   "cell_type": "code",
   "execution_count": 5,
   "metadata": {},
   "outputs": [
    {
     "data": {
      "text/plain": [
       "0"
      ]
     },
     "execution_count": 5,
     "metadata": {},
     "output_type": "execute_result"
    }
   ],
   "source": [
    "class Solution:\n",
    "    def isPalindrome(self, S):\n",
    "        start=0\n",
    "        end=len(S)-1 \n",
    "        while start<end:\n",
    "            x=S[start]\n",
    "            y=S[end]\n",
    "            if x==y:\n",
    "                start+=1\n",
    "                end-=1\n",
    "            else:\n",
    "                return 0\n",
    "        return 1\n",
    "    \n",
    "S=\"abca\"\n",
    "s1=Solution()\n",
    "s1.isPalindrome(S)"
   ]
  },
  {
   "cell_type": "code",
   "execution_count": null,
   "metadata": {},
   "outputs": [],
   "source": []
  }
 ],
 "metadata": {
  "kernelspec": {
   "display_name": "Python 3",
   "language": "python",
   "name": "python3"
  },
  "language_info": {
   "codemirror_mode": {
    "name": "ipython",
    "version": 3
   },
   "file_extension": ".py",
   "mimetype": "text/x-python",
   "name": "python",
   "nbconvert_exporter": "python",
   "pygments_lexer": "ipython3",
   "version": "3.8.5"
  }
 },
 "nbformat": 4,
 "nbformat_minor": 4
}
