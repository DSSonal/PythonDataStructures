{
 "cells": [
  {
   "cell_type": "code",
   "execution_count": 86,
   "metadata": {},
   "outputs": [
    {
     "name": "stdout",
     "output_type": "stream",
     "text": [
      "True\n"
     ]
    }
   ],
   "source": [
    "import math\n",
    "\n",
    "class Solution:\n",
    "    \n",
    "    def findrow(self,mat1,R,C):\n",
    "#         print(\"inside findrow\")\n",
    "        startR=0\n",
    "        endR=R-1\n",
    "        Rnew=0 \n",
    "        global corrRow\n",
    "        corrRow=0.21 # any random value\n",
    "        while corrRow==0.21 :\n",
    "            Rnew=startR+math.floor((endR-startR)/2)\n",
    "#             print(Rnew)\n",
    "            if mat1[Rnew][C-1]<number<mat1[Rnew+1][0] :\n",
    "                print(\"False\")\n",
    "                corrRow=0.11\n",
    "            elif number>mat1[Rnew][C-1] :\n",
    "                startR=Rnew+1\n",
    "            elif number<mat1[Rnew][0]:\n",
    "                endR=Rnew\n",
    "            else:\n",
    "                corrRow=Rnew\n",
    "                self.findele(corrRow,mat1,C)\n",
    "#         print(corrRow)\n",
    "\n",
    "\n",
    "    def findele(self,corrRow,mat1,C):\n",
    "        start=0\n",
    "        end=C-1\n",
    "        check=0\n",
    "        Cnew=0 \n",
    "        while check == 0:\n",
    "#             print(\"inside findele\")\n",
    "            Cnew=start+math.floor((end-start)/2)\n",
    "#             print(Cnew)\n",
    "            if mat1[corrRow][Cnew]<number<mat1[corrRow][Cnew+1] :\n",
    "                print(\"False\")\n",
    "                check=1\n",
    "            elif number==mat1[corrRow][Cnew]:\n",
    "                check=1\n",
    "                print(\"True\")\n",
    "            elif number>mat1[corrRow][Cnew]:\n",
    "                start=Cnew+1\n",
    "            elif number<mat1[corrRow][Cnew]:\n",
    "                end=Cnew\n",
    "            else:\n",
    "                check=1\n",
    "                print(\"False\")\n",
    "                \n",
    "            \n",
    "\n",
    "    def SearchMatrix(self,matrix, target):\n",
    "        mat1=matrix\n",
    "        number=target\n",
    "        R=len(mat1)\n",
    "        C=len(mat1[0])\n",
    "        if mat1[0][0]<=number<=mat1[R-1][C-1]:\n",
    "#             print(\"11\")\n",
    "            self.findrow(mat1,R,C)\n",
    "        else:\n",
    "            print(\"False\")\n",
    "        \n",
    "        \n",
    "number=3\n",
    "mat1=[[1,3,5,7],[10,11,16,20],[23,30,34,60]]\n",
    "s1=Solution()\n",
    "s1.SearchMatrix(mat1,number)\n",
    "            "
   ]
  },
  {
   "cell_type": "code",
   "execution_count": null,
   "metadata": {},
   "outputs": [],
   "source": []
  }
 ],
 "metadata": {
  "kernelspec": {
   "display_name": "Python 3",
   "language": "python",
   "name": "python3"
  },
  "language_info": {
   "codemirror_mode": {
    "name": "ipython",
    "version": 3
   },
   "file_extension": ".py",
   "mimetype": "text/x-python",
   "name": "python",
   "nbconvert_exporter": "python",
   "pygments_lexer": "ipython3",
   "version": "3.8.5"
  }
 },
 "nbformat": 4,
 "nbformat_minor": 4
}
