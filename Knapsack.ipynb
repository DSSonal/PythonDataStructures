{
 "metadata": {
  "language_info": {
   "codemirror_mode": {
    "name": "ipython",
    "version": 3
   },
   "file_extension": ".py",
   "mimetype": "text/x-python",
   "name": "python",
   "nbconvert_exporter": "python",
   "pygments_lexer": "ipython3",
   "version": "3.8.5"
  },
  "orig_nbformat": 2,
  "kernelspec": {
   "name": "python385jvsc74a57bd03da84ba005fb29740e5ed11ca0976eebf212de3bb6e2a95561a7043d3994a83c",
   "display_name": "Python 3.8.5 64-bit ('base': conda)"
  }
 },
 "nbformat": 4,
 "nbformat_minor": 2,
 "cells": [
  {
   "cell_type": "code",
   "execution_count": 29,
   "metadata": {},
   "outputs": [
    {
     "output_type": "stream",
     "name": "stdout",
     "text": [
      "[[None, None, None], [None, None, None], [None, None, None]]\n0\n[[None, None, 0], [None, None, 0], [None, None, 0]]\n"
     ]
    }
   ],
   "source": [
    "def knapSack(W, wt, val, n):\n",
    "    \n",
    "    if W!=0 and dp[n-1][W-1]!=None:\n",
    "        return dp[n-1][W-1]\n",
    "    if n==-1 or W==0:\n",
    "        finval=0\n",
    "    elif wt[n-1]>W:\n",
    "        finval=knapSack(W, wt, val, n-1)\n",
    "    else:\n",
    "        tmp1=knapSack(W, wt, val, n-1)\n",
    "        tmp2=val[n-1]+knapSack(W-wt[n-1], wt, val, n-1)\n",
    "        finval=max(tmp1,tmp2)\n",
    "    dp[n-1][W-1]=finval\n",
    "    return finval\n",
    "\n",
    "W=3\n",
    "n=3\n",
    "val=[1,2,3]\n",
    "wt=[4,5,6]\n",
    "dp=[ [None]*W for i in range(n)]\n",
    "print(dp)\n",
    "print(knapSack(W, wt, val, n))\n",
    "print(dp)"
   ]
  },
  {
   "cell_type": "code",
   "execution_count": null,
   "metadata": {},
   "outputs": [],
   "source": []
  }
 ]
}