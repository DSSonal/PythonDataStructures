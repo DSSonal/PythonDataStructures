{
 "cells": [
  {
   "cell_type": "code",
   "execution_count": 23,
   "metadata": {},
   "outputs": [
    {
     "name": "stdout",
     "output_type": "stream",
     "text": [
      "5\n"
     ]
    }
   ],
   "source": [
    "\n",
    "def BuySellStock(pricelist):\n",
    "    buydayprice=min(pricelist)\n",
    "    #print(buydayprice)\n",
    "    for i in range(0,len(pricelist)):\n",
    "        if pricelist[i]==buydayprice and i!=(len(pricelist)-1):\n",
    "            daybought=i+1\n",
    "            #print(daybought)\n",
    "        elif pricelist[i]==buydayprice and i==(len(pricelist)-1):\n",
    "            daybought=-1\n",
    "            #print(daybought)\n",
    "    \n",
    "    if daybought>0 and daybought!=len(pricelist):\n",
    "        selldayprice=max(pricelist[daybought:])\n",
    "    else:\n",
    "        selldayprice=-1\n",
    "    #print(selldayprice)\n",
    "    \n",
    "    if buydayprice<selldayprice:\n",
    "        print(selldayprice-buydayprice)\n",
    "    else:\n",
    "        print(0)\n",
    "\n",
    "daybought=-1          \n",
    "pricelist=[7,1,4,3,6,2]\n",
    "\n",
    "BuySellStock(pricelist)"
   ]
  },
  {
   "cell_type": "code",
   "execution_count": 24,
   "metadata": {},
   "outputs": [
    {
     "data": {
      "text/plain": [
       "2"
      ]
     },
     "execution_count": 24,
     "metadata": {},
     "output_type": "execute_result"
    }
   ],
   "source": [
    "class Solution:\n",
    "    def maxProfit(self, prices):\n",
    "        profit=0\n",
    "        buyday=-1\n",
    "        sellday=-1\n",
    "        for i in range(0,len(prices)):\n",
    "            for j in range(i,len(prices)):\n",
    "                if prices[j]-prices[i]>profit:\n",
    "                    profit=prices[j]-prices[i]\n",
    "                    buyday=i+1\n",
    "                    sellday=j+1\n",
    "        return(profit)\n",
    "\n",
    "prices=[2,4,1]\n",
    "a1=Solution()\n",
    "a1.maxProfit(prices)"
   ]
  },
  {
   "cell_type": "code",
   "execution_count": 40,
   "metadata": {},
   "outputs": [
    {
     "data": {
      "text/plain": [
       "2"
      ]
     },
     "execution_count": 40,
     "metadata": {},
     "output_type": "execute_result"
    }
   ],
   "source": [
    "class Solution:\n",
    "    def maxProfit(self, prices):\n",
    "        profit=0\n",
    "        buyprice=prices[0]\n",
    "        sellprice=0\n",
    "        for i in range(0,len(prices)):\n",
    "            if prices[i]<=buyprice:\n",
    "                buyprice=prices[i]\n",
    "            elif prices[i]>=sellprice:\n",
    "                sellprice=prices[i]\n",
    "                profit=max(profit,sellprice-buyprice)\n",
    "                sellprice=0\n",
    "                        \n",
    "        return(profit)\n",
    "    \n",
    "prices=[2,1,2,1,0,1,2]\n",
    "a1=Solution()\n",
    "a1.maxProfit(prices)"
   ]
  },
  {
   "cell_type": "code",
   "execution_count": null,
   "metadata": {},
   "outputs": [],
   "source": []
  },
  {
   "cell_type": "code",
   "execution_count": null,
   "metadata": {},
   "outputs": [],
   "source": []
  }
 ],
 "metadata": {
  "kernelspec": {
   "display_name": "Python 3",
   "language": "python",
   "name": "python3"
  },
  "language_info": {
   "codemirror_mode": {
    "name": "ipython",
    "version": 3
   },
   "file_extension": ".py",
   "mimetype": "text/x-python",
   "name": "python",
   "nbconvert_exporter": "python",
   "pygments_lexer": "ipython3",
   "version": "3.8.5"
  }
 },
 "nbformat": 4,
 "nbformat_minor": 4
}
