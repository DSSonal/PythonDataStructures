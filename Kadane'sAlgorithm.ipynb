{
 "cells": [
  {
   "cell_type": "code",
   "execution_count": 3,
   "id": "87627bfa-0bb9-4378-bb38-acdad71d1708",
   "metadata": {},
   "outputs": [
    {
     "name": "stdout",
     "output_type": "stream",
     "text": [
      "-1\n"
     ]
    }
   ],
   "source": [
    "def KadaneAlgo(a):\n",
    "    currsum=a[0]  # gives the maximum sum of the subarray ending at ith index\n",
    "    maxsum=a[0]   #gives the overall maximum sum of the subarray\n",
    "    for i in range(1,len(a)):\n",
    "        currsum=max(arr[i],currsum+a[i])  # Finds the currsum(basically checks if currsum is more after adding the ith element to it or the ith element alone is greater than currsum)\n",
    "#         print(\"c=\",currsum)\n",
    "        if currsum>maxsum:\n",
    "            maxsum=currsum\n",
    "        if currsum<0:\n",
    "            currsum=0\n",
    "#         print(\"m=\",maxsum)\n",
    "    return maxsum\n",
    "\n",
    "\n",
    "arr=[-2,-3,-2,-1,-3]\n",
    "print(KadaneAlgo(arr))"
   ]
  },
  {
   "cell_type": "code",
   "execution_count": null,
   "id": "380c2343-59a7-42f0-97fa-e0643369a0c9",
   "metadata": {},
   "outputs": [],
   "source": []
  }
 ],
 "metadata": {
  "kernelspec": {
   "display_name": "Python 3",
   "language": "python",
   "name": "python3"
  },
  "language_info": {
   "codemirror_mode": {
    "name": "ipython",
    "version": 3
   },
   "file_extension": ".py",
   "mimetype": "text/x-python",
   "name": "python",
   "nbconvert_exporter": "python",
   "pygments_lexer": "ipython3",
   "version": "3.8.5"
  }
 },
 "nbformat": 4,
 "nbformat_minor": 5
}
