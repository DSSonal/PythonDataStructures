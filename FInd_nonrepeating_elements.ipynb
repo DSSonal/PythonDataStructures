{
 "metadata": {
  "language_info": {
   "codemirror_mode": {
    "name": "ipython",
    "version": 3
   },
   "file_extension": ".py",
   "mimetype": "text/x-python",
   "name": "python",
   "nbconvert_exporter": "python",
   "pygments_lexer": "ipython3",
   "version": "3.8.5"
  },
  "orig_nbformat": 2,
  "kernelspec": {
   "name": "python385jvsc74a57bd03da84ba005fb29740e5ed11ca0976eebf212de3bb6e2a95561a7043d3994a83c",
   "display_name": "Python 3.8.5 64-bit ('base': conda)"
  }
 },
 "nbformat": 4,
 "nbformat_minor": 2,
 "cells": [
  {
   "source": [
    "# Find the two non-repeating elements in an array of repeating integers: Bit Manipulation,Bit XOR"
   ],
   "cell_type": "markdown",
   "metadata": {}
  },
  {
   "cell_type": "code",
   "execution_count": 43,
   "metadata": {},
   "outputs": [
    {
     "output_type": "stream",
     "name": "stdout",
     "text": [
      "[3, 29]\n"
     ]
    }
   ],
   "source": [
    "class Solution:\n",
    "    def singleNumber(self, nums):\n",
    "        # Find XOR of the two non-repeating numbers\n",
    "        res=0\n",
    "        for i in nums:\n",
    "            res=res^i \n",
    "\n",
    "        # Find the first set bit in the res\n",
    "        pos=0\n",
    "        res1=res\n",
    "        while (res1 & 1)!=1:\n",
    "            pos+=1\n",
    "            res1=res1>>1 \n",
    "\n",
    "        #Group numbers with bit as 0 and find its XOR with res to get first number\n",
    "        a1=res\n",
    "        for i in nums:\n",
    "            if((i>>pos)&1)==1:\n",
    "                a1=a1^i\n",
    "\n",
    "        #Find second number by performing XOR of res with first number \n",
    "        a2=a1^res\n",
    "\n",
    "        if a1<a2:\n",
    "            return [a1,a2]\n",
    "        else:\n",
    "            return [a2,a1]\n",
    "\n",
    "        \n",
    "\n",
    "s1=Solution()\n",
    "nums=[1,2,3,2,1,29]\n",
    "print(s1.singleNumber(nums))\n",
    "        \n",
    "        "
   ]
  },
  {
   "cell_type": "code",
   "execution_count": null,
   "metadata": {},
   "outputs": [],
   "source": []
  }
 ]
}