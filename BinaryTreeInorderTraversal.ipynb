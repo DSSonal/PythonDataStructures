{
 "cells": [
  {
   "cell_type": "code",
   "execution_count": null,
   "source": [
    "#Definition for a binary tree node.\n",
    "class TreeNode:\n",
    "    def __init__(self, val=0, left=None, right=None):\n",
    "        self.val = val\n",
    "        self.left = left\n",
    "        self.right = right\n",
    "class Solution:\n",
    "    def inorderTraversal(self, root: TreeNode):\n",
    "        \"\"\"\n",
    "        Solution for https://leetcode.com/problems/binary-tree-inorder-traversal\n",
    "        \"\"\"\n",
    "        outplist=[]\n",
    "        def Helper(self, root: TreeNode): #Helper function\n",
    "            if root==None:                #Base Case\n",
    "                return\n",
    "            Helper(self, root.left)        #Recursive case\n",
    "            outplist.append(root.val)      #Recursive case\n",
    "            Helper(self, root.right)       #Recursive case\n",
    "        Helper(self,root)\n",
    "        return outplist\n",
    "    \n",
    "   "
   ],
   "outputs": [],
   "metadata": {}
  }
 ],
 "metadata": {
  "orig_nbformat": 4,
  "language_info": {
   "name": "python"
  }
 },
 "nbformat": 4,
 "nbformat_minor": 2
}