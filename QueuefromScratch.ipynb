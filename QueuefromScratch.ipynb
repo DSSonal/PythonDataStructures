{
 "metadata": {
  "language_info": {
   "codemirror_mode": {
    "name": "ipython",
    "version": 3
   },
   "file_extension": ".py",
   "mimetype": "text/x-python",
   "name": "python",
   "nbconvert_exporter": "python",
   "pygments_lexer": "ipython3",
   "version": "3.8.5"
  },
  "orig_nbformat": 2,
  "kernelspec": {
   "name": "python385jvsc74a57bd03da84ba005fb29740e5ed11ca0976eebf212de3bb6e2a95561a7043d3994a83c",
   "display_name": "Python 3.8.5 64-bit ('base': conda)"
  }
 },
 "nbformat": 4,
 "nbformat_minor": 2,
 "cells": [
  {
   "cell_type": "code",
   "execution_count": 14,
   "metadata": {},
   "outputs": [
    {
     "output_type": "stream",
     "name": "stdout",
     "text": [
      "[1, 22, 13]\n1\n22\n"
     ]
    }
   ],
   "source": [
    "class Queue():\n",
    "    \"\"\"Creating a class to create and implement queue.\"\"\"\n",
    "\n",
    "    def __init__(self):\n",
    "        global queue\n",
    "        queue=[]\n",
    "        self.start=0\n",
    "        self.i=-1\n",
    "\n",
    "    def enqueue(self,a):\n",
    "        self.i+=1\n",
    "        queue.insert(self.i,a)\n",
    "\n",
    "    def dequeue(self):\n",
    "        if self.start>self.i:\n",
    "            return (\"Empty Queue, nothing to dequeue.\")\n",
    "        else:\n",
    "            start1=self.start\n",
    "            self.start+=1\n",
    "            return queue[start1]\n",
    "\n",
    "q=Queue()\n",
    "q.enqueue(1)\n",
    "q.enqueue(22)\n",
    "q.enqueue(13)\n",
    "print(queue)\n",
    "print(q.dequeue())\n",
    "print(q.dequeue())"
   ]
  },
  {
   "cell_type": "code",
   "execution_count": null,
   "metadata": {},
   "outputs": [],
   "source": []
  }
 ]
}