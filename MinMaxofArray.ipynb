{
 "cells": [
  {
   "cell_type": "code",
   "execution_count": 3,
   "id": "d0712494-0a7d-4ad2-8643-cadd675d52fc",
   "metadata": {},
   "outputs": [
    {
     "name": "stdout",
     "output_type": "stream",
     "text": [
      "1\n",
      "8\n"
     ]
    }
   ],
   "source": [
    "def mini(arr):\n",
    "    mini=arr[0]\n",
    "    for i in range(1, len(arr)):\n",
    "        if arr[i]<mini:\n",
    "            mini=arr[i]\n",
    "    return mini\n",
    "\n",
    "def maxi(arr):  \n",
    "    maxi=arr[0]\n",
    "    for i in range(1, len(arr)):\n",
    "        if arr[i]>maxi:\n",
    "            maxi=arr[i]\n",
    "    return maxi\n",
    "\n",
    "\n",
    "arr=[1,2,3,4,5,6,7,8]\n",
    "print(mini(arr))\n",
    "print(maxi(arr))"
   ]
  },
  {
   "cell_type": "code",
   "execution_count": null,
   "id": "8592c681-0c58-452c-8b27-3927eb335809",
   "metadata": {},
   "outputs": [],
   "source": []
  }
 ],
 "metadata": {
  "kernelspec": {
   "display_name": "Python 3",
   "language": "python",
   "name": "python3"
  },
  "language_info": {
   "codemirror_mode": {
    "name": "ipython",
    "version": 3
   },
   "file_extension": ".py",
   "mimetype": "text/x-python",
   "name": "python",
   "nbconvert_exporter": "python",
   "pygments_lexer": "ipython3",
   "version": "3.8.5"
  }
 },
 "nbformat": 4,
 "nbformat_minor": 5
}
