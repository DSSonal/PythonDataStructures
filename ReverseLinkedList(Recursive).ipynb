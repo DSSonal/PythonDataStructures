{
 "cells": [
  {
   "cell_type": "markdown",
   "metadata": {},
   "source": [
    "# Creating a Linked List and Reversing it using Recursive way "
   ]
  },
  {
   "cell_type": "code",
   "execution_count": 30,
   "metadata": {},
   "outputs": [
    {
     "name": "stdout",
     "output_type": "stream",
     "text": [
      "2341 --> 3121 --> 1123 --> 7844\n",
      "7844 --> 1123 --> 3121 --> 2341\n"
     ]
    }
   ],
   "source": [
    "class LinkedListNode:\n",
    "    \n",
    "    def __init__(self,data,nextnode=None):\n",
    "        self.data=data\n",
    "        self.nextnode=nextnode\n",
    "        \n",
    "#Creating nodes that just have data but aren't linked to each other as by default nextnode=None \n",
    "n1=LinkedListNode(\"2341\")  #basically creating class objects by passing the parameters\n",
    "n2=LinkedListNode(\"3121\")\n",
    "n3=LinkedListNode(\"1123\")\n",
    "n4=LinkedListNode(\"7844\")\n",
    "\n",
    "\n",
    "#Linking the data nodes by defining the nextnode\n",
    "head=n1 #initiating\n",
    "n1.nextnode=n2  #linking data node n1 to n2\n",
    "n2.nextnode=n3  #linking data node n2 to n3\n",
    "n3.nextnode=n4  #linking data node n3 to n4\n",
    "\n",
    "\n",
    "#Virtual representation for a better visualisation\n",
    "current=head  #initialising\n",
    "while True:\n",
    "    if current.nextnode != None:\n",
    "        print(current.data,\"-->\", end=\" \")\n",
    "    else:\n",
    "        print(current.data)\n",
    "        break                       #break out of while loop when u reach the last node\n",
    "    current=current.nextnode\n",
    "\n",
    "\n",
    "# Recursive way of Reversing Linked List\n",
    "\n",
    "def reverse(node):\n",
    "    nextnode=node.nextnode          # Just creating the tree for recursion by moving to the next node\n",
    "    if nextnode==None:\n",
    "        head=node                    # changing the head to point to the last node and catching it in the further steps\n",
    "        return head\n",
    "    else:\n",
    "        head=reverse(nextnode)       # Recursive call\n",
    "        nextnode.nextnode=node        #Doing the actual reversal of the linkages\n",
    "        node.nextnode=None            #Performing this step to finally let the begining of the list point to None\n",
    "        return head\n",
    "\n",
    "\n",
    "current=head\n",
    "head=reverse(current)\n",
    "\n",
    "\n",
    "#Virtual representation for a better visualisation\n",
    "current=head  #initialising\n",
    "while True:\n",
    "    if current.nextnode != None:\n",
    "        print(current.data,\"-->\", end=\" \")\n",
    "    else:\n",
    "        print(current.data)\n",
    "        break                       #break out of while loop when u reach the last node\n",
    "    current=current.nextnode"
   ]
  }
 ],
 "metadata": {
  "kernelspec": {
   "display_name": "Python 3",
   "language": "python",
   "name": "python3"
  },
  "language_info": {
   "codemirror_mode": {
    "name": "ipython",
    "version": 3
   },
   "file_extension": ".py",
   "mimetype": "text/x-python",
   "name": "python",
   "nbconvert_exporter": "python",
   "pygments_lexer": "ipython3",
   "version": "3.8.5"
  }
 },
 "nbformat": 4,
 "nbformat_minor": 4
}
