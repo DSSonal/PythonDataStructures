{
 "cells": [
  {
   "cell_type": "code",
   "execution_count": 15,
   "source": [
    "def rotate(arr,n):\n",
    "    \"\"\"\n",
    "    Solution for https://practice.geeksforgeeks.org/problems/cyclically-rotate-an-array-by-one2614/1\n",
    "    \"\"\"\n",
    "    \n",
    "    arr.insert(0,arr.pop(n-1)) #This works only when you want to rotate by one otherwise use function to value of indexes to shift to appropriate index such as mod. \n",
    "    \n",
    "    return arr\n",
    "\n",
    "arr=[1,2,3,4,5]\n",
    "n=5\n",
    "rotate(arr,n)\n",
    "        \n",
    "            "
   ],
   "outputs": [
    {
     "output_type": "execute_result",
     "data": {
      "text/plain": [
       "[5, 1, 2, 3, 4]"
      ]
     },
     "metadata": {},
     "execution_count": 15
    }
   ],
   "metadata": {}
  }
 ],
 "metadata": {
  "orig_nbformat": 4,
  "language_info": {
   "name": "python"
  }
 },
 "nbformat": 4,
 "nbformat_minor": 2
}