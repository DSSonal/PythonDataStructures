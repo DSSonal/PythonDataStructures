{
 "cells": [
  {
   "cell_type": "markdown",
   "source": [
    "# Move all negative numbers to beginning and positive to end with constant extra space\n"
   ],
   "metadata": {}
  },
  {
   "cell_type": "code",
   "execution_count": 9,
   "source": [
    "class Solution:\n",
    "    def posneg(self, arr, n):\n",
    "        p1=0\n",
    "        p2=n-1\n",
    "        while(p1<=p2):\n",
    "            if arr[p1]>=0:\n",
    "                arr[p1],arr[p2]=arr[p2],arr[p1]\n",
    "                p2-=1\n",
    "            else:\n",
    "                p1+=1\n",
    "        return arr\n",
    "        \n",
    "s1=Solution()\n",
    "arr=[0,-5,-9,-7,-6,-7,-8,-4]\n",
    "n=8\n",
    "s1.posneg(arr,n)"
   ],
   "outputs": [
    {
     "output_type": "execute_result",
     "data": {
      "text/plain": [
       "[-4, -5, -9, -7, -6, -7, -8, 0]"
      ]
     },
     "metadata": {},
     "execution_count": 9
    }
   ],
   "metadata": {}
  }
 ],
 "metadata": {
  "orig_nbformat": 4,
  "language_info": {
   "name": "python"
  }
 },
 "nbformat": 4,
 "nbformat_minor": 2
}