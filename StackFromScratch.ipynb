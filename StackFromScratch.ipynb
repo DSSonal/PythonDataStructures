{
 "cells": [
  {
   "source": [
    "class Stack():\n",
    "    \"\"\"Creating push function to create a stack.\n",
    "    Creating pop function for implementing gstack.\"\"\"\n",
    "\n",
    "    def __init__(self):\n",
    "        global stack\n",
    "        stack=[]\n",
    "        self.top=-1\n",
    "\n",
    "    def push(self, a):\n",
    "        self.top+=1\n",
    "        stack.insert(self.top,a)  #append can also be used\n",
    "\n",
    "    def pop(self):\n",
    "        top1=self.top\n",
    "        self.top-=1\n",
    "        return stack[top1] \n",
    "        \n",
    "\n",
    "s=Stack()\n",
    "s.push(1)\n",
    "s.push(22)\n",
    "s.push(13)\n",
    "print(stack)\n",
    "print(s.pop())\n",
    "print(s.pop())"
   ],
   "cell_type": "code",
   "metadata": {},
   "execution_count": 11,
   "outputs": [
    {
     "output_type": "stream",
     "name": "stdout",
     "text": [
      "[1, 22, 13]\n13\n22\n"
     ]
    }
   ]
  }
 ],
 "metadata": {
  "kernelspec": {
   "name": "python385jvsc74a57bd03da84ba005fb29740e5ed11ca0976eebf212de3bb6e2a95561a7043d3994a83c",
   "display_name": "Python 3.8.5 64-bit ('base': conda)"
  },
  "language_info": {
   "codemirror_mode": {
    "name": "ipython",
    "version": 3
   },
   "file_extension": ".py",
   "mimetype": "text/x-python",
   "name": "python",
   "nbconvert_exporter": "python",
   "pygments_lexer": "ipython3",
   "version": "3.8.5"
  }
 },
 "nbformat": 4,
 "nbformat_minor": 5
}