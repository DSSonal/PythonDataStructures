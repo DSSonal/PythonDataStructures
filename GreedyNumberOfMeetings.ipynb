{
 "cells": [
  {
   "cell_type": "code",
   "execution_count": 17,
   "metadata": {},
   "outputs": [
    {
     "name": "stdout",
     "output_type": "stream",
     "text": [
      "[27545, 11273, 50879, 43659, 8931, 75250, 50074, 77924]\n",
      "[35533, 54316, 73383, 81825, 93424, 112960, 114515, 160252]\n",
      "0 1\n",
      "0 2\n",
      "2 3\n",
      "2 4\n",
      "2 5\n",
      "5 6\n",
      "5 7\n",
      "3\n"
     ]
    }
   ],
   "source": [
    "# import operator\n",
    "class Solution:\n",
    "    \n",
    "    #Function to find the maximum number of meetings that can\n",
    "    #be performed in a meeting room.\n",
    "    def maximumMeetings(self,n,start,end):\n",
    "        # code here\n",
    "        start=[x for _, x in sorted(zip(end, start))]\n",
    "        end=sorted(end)\n",
    "        print(start)\n",
    "        print(end)\n",
    "        output=1\n",
    "        i=1\n",
    "        j=0\n",
    "        while i<=n-1:\n",
    "            print(j,i)\n",
    "            if start[i]>end[j]:\n",
    "                output+=1\n",
    "                j=i\n",
    "                i+=1\n",
    "            else:\n",
    "                i+=1\n",
    "        return output\n",
    "    \n",
    "start=[75250, 50074, 43659, 8931, 11273, 27545, 50879, 77924]\n",
    "end=[112960, 114515, 81825, 93424, 54316, 35533, 73383, 160252]\n",
    "n=len(start)\n",
    "s1=Solution()\n",
    "print(s1.maximumMeetings(n,start,end))\n",
    "            \n",
    "        "
   ]
  },
  {
   "cell_type": "code",
   "execution_count": null,
   "metadata": {},
   "outputs": [],
   "source": []
  },
  {
   "cell_type": "code",
   "execution_count": null,
   "metadata": {},
   "outputs": [],
   "source": []
  },
  {
   "cell_type": "code",
   "execution_count": null,
   "metadata": {},
   "outputs": [],
   "source": []
  }
 ],
 "metadata": {
  "kernelspec": {
   "display_name": "Python 3",
   "language": "python",
   "name": "python3"
  },
  "language_info": {
   "codemirror_mode": {
    "name": "ipython",
    "version": 3
   },
   "file_extension": ".py",
   "mimetype": "text/x-python",
   "name": "python",
   "nbconvert_exporter": "python",
   "pygments_lexer": "ipython3",
   "version": "3.8.5"
  }
 },
 "nbformat": 4,
 "nbformat_minor": 4
}
