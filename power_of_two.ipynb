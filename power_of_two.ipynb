{
 "metadata": {
  "language_info": {
   "codemirror_mode": {
    "name": "ipython",
    "version": 3
   },
   "file_extension": ".py",
   "mimetype": "text/x-python",
   "name": "python",
   "nbconvert_exporter": "python",
   "pygments_lexer": "ipython3",
   "version": "3.8.5"
  },
  "orig_nbformat": 2,
  "kernelspec": {
   "name": "python385jvsc74a57bd03da84ba005fb29740e5ed11ca0976eebf212de3bb6e2a95561a7043d3994a83c",
   "display_name": "Python 3.8.5 64-bit ('base': conda)"
  }
 },
 "nbformat": 4,
 "nbformat_minor": 2,
 "cells": [
  {
   "source": [
    "# Check whether a given number is a power of two; Bit Manipulation"
   ],
   "cell_type": "markdown",
   "metadata": {}
  },
  {
   "cell_type": "code",
   "execution_count": 8,
   "metadata": {},
   "outputs": [
    {
     "output_type": "stream",
     "name": "stdout",
     "text": [
      "False\n"
     ]
    }
   ],
   "source": [
    "\n",
    "class Solution:\n",
    "    ##Complete this function\n",
    "    # Function to check if given number n is a power of two.\n",
    "    def isPowerofTwo(self,n):\n",
    "        ##Your code here\n",
    "        count=0\n",
    "        if n==0:\n",
    "            return False\n",
    "        else:\n",
    "            while(n!=0):\n",
    "                n=n&(n-1)\n",
    "                count+=1\n",
    "        if count==1:\n",
    "            return True\n",
    "        else:\n",
    "            return False\n",
    "\n",
    "s1=Solution()\n",
    "n=15\n",
    "print(s1.isPowerofTwo(n))"
   ]
  },
  {
   "cell_type": "code",
   "execution_count": null,
   "metadata": {},
   "outputs": [],
   "source": []
  }
 ]
}