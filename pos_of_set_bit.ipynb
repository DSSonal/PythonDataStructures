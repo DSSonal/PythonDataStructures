{
 "cells": [
  {
   "cell_type": "code",
   "execution_count": 1,
   "metadata": {},
   "outputs": [
    {
     "name": "stdout",
     "output_type": "stream",
     "text": [
      "8\n"
     ]
    }
   ],
   "source": [
    "class Solution:\n",
    "    def findPosition(self, N):\n",
    "        # code here \n",
    "        count=0\n",
    "        n1=N\n",
    "        while(count<2 and n1!=0):\n",
    "            n1=n1&(n1-1)\n",
    "            count+=1\n",
    "        pos=0\n",
    "        ans=0\n",
    "        n=N\n",
    "        if count==1:\n",
    "            while(ans==0):\n",
    "                ans=n&1\n",
    "                n=n>>1\n",
    "                pos+=1\n",
    "                #print(ans,pos)\n",
    "            return pos\n",
    "        else:\n",
    "            return -1\n",
    "\n",
    "s=Solution()\n",
    "print(s.findPosition(128))"
   ]
  }
 ],
 "metadata": {
  "language_info": {
   "name": "python",
   "nbconvert_exporter": "python"
  },
  "orig_nbformat": 2
 },
 "nbformat": 4,
 "nbformat_minor": 2
}