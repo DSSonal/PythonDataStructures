{
 "cells": [
  {
   "cell_type": "code",
   "execution_count": 27,
   "metadata": {},
   "outputs": [
    {
     "name": "stdout",
     "output_type": "stream",
     "text": [
      "[-1, -1]\n"
     ]
    }
   ],
   "source": [
    "#Find first and last positions of an element in a sorted array\n",
    "from bisect import bisect_left\n",
    "from bisect import bisect_right\n",
    "  \n",
    "def find(arr,n,x):\n",
    "#     print(\"1\")\n",
    "    i = bisect_left(arr, x)\n",
    "    j=bisect_right(arr,x)\n",
    "    if i<=n-1 and arr[i]==x:\n",
    "#         print(\"4\")\n",
    "        start=i\n",
    "        end=j-1\n",
    "    else:\n",
    "        start=-1\n",
    "        end=-1\n",
    "        \n",
    "    ans=[start,end]\n",
    "    return ans\n",
    "    \n",
    "    \n",
    "\n",
    "        \n",
    "arr=[1,2,3,5,5,6]\n",
    "x=4\n",
    "n=len(arr)-1\n",
    "print(find(arr,n,x))\n",
    "        \n"
   ]
  },
  {
   "cell_type": "code",
   "execution_count": null,
   "metadata": {},
   "outputs": [],
   "source": []
  }
 ],
 "metadata": {
  "kernelspec": {
   "display_name": "Python 3",
   "language": "python",
   "name": "python3"
  },
  "language_info": {
   "codemirror_mode": {
    "name": "ipython",
    "version": 3
   },
   "file_extension": ".py",
   "mimetype": "text/x-python",
   "name": "python",
   "nbconvert_exporter": "python",
   "pygments_lexer": "ipython3",
   "version": "3.8.5"
  }
 },
 "nbformat": 4,
 "nbformat_minor": 4
}
