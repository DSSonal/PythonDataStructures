{
 "cells": [
  {
   "cell_type": "code",
   "execution_count": null,
   "source": [
    "# Definition for a binary tree node.\n",
    "class TreeNode:\n",
    "    def __init__(self, val=0, left=None, right=None):\n",
    "        self.val = val\n",
    "        self.left = left\n",
    "        self.right = right\n",
    "class Solution:\n",
    "    def isSameTree(self, p: TreeNode, q: TreeNode):\n",
    "        \"\"\"\n",
    "        Solution for https://leetcode.com/problems/same-tree/\n",
    "        \"\"\"\n",
    "        if p==None and q==None:\n",
    "            return True\n",
    "        elif (p==None)^(q==None):\n",
    "            return False\n",
    "        else:\n",
    "            if p.val==q.val:\n",
    "                flag=self.isSameTree(p.left, q.left)\n",
    "                if flag==True:\n",
    "                    flag= self.isSameTree(p.right, q.right)\n",
    "            else:\n",
    "                flag=False\n",
    "        return flag\n",
    "        "
   ],
   "outputs": [],
   "metadata": {}
  }
 ],
 "metadata": {
  "orig_nbformat": 4,
  "language_info": {
   "name": "python"
  }
 },
 "nbformat": 4,
 "nbformat_minor": 2
}